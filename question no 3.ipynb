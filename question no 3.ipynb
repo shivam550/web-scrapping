{
 "cells": [
  {
   "cell_type": "code",
   "execution_count": 3,
   "id": "abfb02af",
   "metadata": {},
   "outputs": [],
   "source": [
    "import requests\n",
    "import pandas as pd"
   ]
  },
  {
   "cell_type": "code",
   "execution_count": 24,
   "id": "506e10ff",
   "metadata": {},
   "outputs": [],
   "source": [
    "page=requests.get('https://en.wikipedia.org/wiki/List_of_countries_and_dependencies_by_population')"
   ]
  },
  {
   "cell_type": "code",
   "execution_count": 26,
   "id": "129e910f",
   "metadata": {},
   "outputs": [],
   "source": [
    "# page.content"
   ]
  },
  {
   "cell_type": "code",
   "execution_count": 34,
   "id": "aea93da2",
   "metadata": {},
   "outputs": [
    {
     "data": {
      "text/plain": [
       "200"
      ]
     },
     "execution_count": 34,
     "metadata": {},
     "output_type": "execute_result"
    }
   ],
   "source": [
    "page.status_code"
   ]
  },
  {
   "cell_type": "code",
   "execution_count": 33,
   "id": "a663d552",
   "metadata": {},
   "outputs": [
    {
     "data": {
      "text/plain": [
       "'UTF-8'"
      ]
     },
     "execution_count": 33,
     "metadata": {},
     "output_type": "execute_result"
    }
   ],
   "source": [
    "page.encoding"
   ]
  },
  {
   "cell_type": "code",
   "execution_count": 27,
   "id": "1227f99c",
   "metadata": {},
   "outputs": [],
   "source": [
    "# page.headers"
   ]
  },
  {
   "cell_type": "code",
   "execution_count": 32,
   "id": "8da8c485",
   "metadata": {},
   "outputs": [
    {
     "data": {
      "text/plain": [
       "'mw2386.codfw.wmnet'"
      ]
     },
     "execution_count": 32,
     "metadata": {},
     "output_type": "execute_result"
    }
   ],
   "source": [
    "page.headers['Server']"
   ]
  },
  {
   "cell_type": "code",
   "execution_count": 35,
   "id": "e6b3a486",
   "metadata": {},
   "outputs": [],
   "source": [
    "from bs4 import BeautifulSoup"
   ]
  },
  {
   "cell_type": "code",
   "execution_count": 36,
   "id": "a06b6f78",
   "metadata": {},
   "outputs": [],
   "source": [
    "soup=BeautifulSoup(page.content,'html.parser')"
   ]
  },
  {
   "cell_type": "code",
   "execution_count": 51,
   "id": "a2a894a4",
   "metadata": {},
   "outputs": [],
   "source": [
    "table = soup.find('table')"
   ]
  },
  {
   "cell_type": "code",
   "execution_count": 40,
   "id": "819f0634",
   "metadata": {},
   "outputs": [],
   "source": [
    "data=[]\n",
    "for row in table.find_all('tr'):\n",
    "    cols=row.find_all('td')\n",
    "    cols=[col.text for col in cols]\n",
    "    data.append(cols)"
   ]
  },
  {
   "cell_type": "code",
   "execution_count": 55,
   "id": "0d49d8cd",
   "metadata": {},
   "outputs": [
    {
     "data": {
      "text/html": [
       "<div>\n",
       "<style scoped>\n",
       "    .dataframe tbody tr th:only-of-type {\n",
       "        vertical-align: middle;\n",
       "    }\n",
       "\n",
       "    .dataframe tbody tr th {\n",
       "        vertical-align: top;\n",
       "    }\n",
       "\n",
       "    .dataframe thead th {\n",
       "        text-align: right;\n",
       "    }\n",
       "</style>\n",
       "<table border=\"1\" class=\"dataframe\">\n",
       "  <thead>\n",
       "    <tr style=\"text-align: right;\">\n",
       "      <th></th>\n",
       "      <th>0</th>\n",
       "      <th>1</th>\n",
       "      <th>2</th>\n",
       "      <th>3</th>\n",
       "      <th>4</th>\n",
       "      <th>5</th>\n",
       "      <th>6</th>\n",
       "    </tr>\n",
       "  </thead>\n",
       "  <tbody>\n",
       "    <tr>\n",
       "      <th>3</th>\n",
       "      <td>China</td>\n",
       "      <td>1,411,750,000</td>\n",
       "      <td>17.6%\\n</td>\n",
       "      <td>31 Dec 2022</td>\n",
       "      <td>Official estimate[4]</td>\n",
       "      <td>The population figure refers to mainland China...</td>\n",
       "      <td>None</td>\n",
       "    </tr>\n",
       "    <tr>\n",
       "      <th>4</th>\n",
       "      <td>India</td>\n",
       "      <td>1,375,586,000</td>\n",
       "      <td>17.2%\\n</td>\n",
       "      <td>1 Mar 2022\\n</td>\n",
       "      <td>Official projection[5]</td>\n",
       "      <td>The figure includes the population of the Indi...</td>\n",
       "      <td>None</td>\n",
       "    </tr>\n",
       "    <tr>\n",
       "      <th>5</th>\n",
       "      <td>United States</td>\n",
       "      <td>334,233,854</td>\n",
       "      <td>4.17%\\n</td>\n",
       "      <td>1 Jan 2023\\n</td>\n",
       "      <td>Official estimate[6]</td>\n",
       "      <td>The figure includes the 50 states and the Dist...</td>\n",
       "      <td>None</td>\n",
       "    </tr>\n",
       "    <tr>\n",
       "      <th>6</th>\n",
       "      <td>Indonesia</td>\n",
       "      <td>275,773,800</td>\n",
       "      <td>3.44%\\n</td>\n",
       "      <td>1 Jul 2022</td>\n",
       "      <td>Official estimate[7]</td>\n",
       "      <td>\\n</td>\n",
       "      <td>None</td>\n",
       "    </tr>\n",
       "    <tr>\n",
       "      <th>7</th>\n",
       "      <td>Pakistan</td>\n",
       "      <td>235,825,000</td>\n",
       "      <td>2.95%\\n</td>\n",
       "      <td>1 Jul 2022</td>\n",
       "      <td>UN projection[3]</td>\n",
       "      <td>The figure includes the population of Pakistan...</td>\n",
       "      <td>None</td>\n",
       "    </tr>\n",
       "    <tr>\n",
       "      <th>...</th>\n",
       "      <td>...</td>\n",
       "      <td>...</td>\n",
       "      <td>...</td>\n",
       "      <td>...</td>\n",
       "      <td>...</td>\n",
       "      <td>...</td>\n",
       "      <td>...</td>\n",
       "    </tr>\n",
       "    <tr>\n",
       "      <th>239</th>\n",
       "      <td>Tokelau (New Zealand)</td>\n",
       "      <td>1,647</td>\n",
       "      <td>0%\\n</td>\n",
       "      <td>1 Jan 2019</td>\n",
       "      <td>2019 Census [206]</td>\n",
       "      <td>\\n</td>\n",
       "      <td>None</td>\n",
       "    </tr>\n",
       "    <tr>\n",
       "      <th>240</th>\n",
       "      <td>Niue (New Zealand)</td>\n",
       "      <td>1,549</td>\n",
       "      <td>0%\\n</td>\n",
       "      <td>1 Jul 2021</td>\n",
       "      <td>National annual projection[95]</td>\n",
       "      <td>\\n</td>\n",
       "      <td>None</td>\n",
       "    </tr>\n",
       "    <tr>\n",
       "      <th>241</th>\n",
       "      <td>Vatican City</td>\n",
       "      <td>825</td>\n",
       "      <td>0%\\n</td>\n",
       "      <td>1 Feb 2019</td>\n",
       "      <td>Monthly national estimate[207]</td>\n",
       "      <td>The total population of 825 consisted of 453 r...</td>\n",
       "      <td>None</td>\n",
       "    </tr>\n",
       "    <tr>\n",
       "      <th>242</th>\n",
       "      <td>Cocos (Keeling) Islands (Australia)</td>\n",
       "      <td>593</td>\n",
       "      <td>0%\\n</td>\n",
       "      <td>30 Jun 2020</td>\n",
       "      <td>2021 Census[208]</td>\n",
       "      <td>\\n</td>\n",
       "      <td>None</td>\n",
       "    </tr>\n",
       "    <tr>\n",
       "      <th>243</th>\n",
       "      <td>Pitcairn Islands (United Kingdom)</td>\n",
       "      <td>47</td>\n",
       "      <td>0%\\n</td>\n",
       "      <td>1 Jul 2021</td>\n",
       "      <td>Official estimate[209]</td>\n",
       "      <td>\\n</td>\n",
       "      <td>None</td>\n",
       "    </tr>\n",
       "  </tbody>\n",
       "</table>\n",
       "<p>241 rows × 7 columns</p>\n",
       "</div>"
      ],
      "text/plain": [
       "                                        0              1        2  \\\n",
       "3                                   China  1,411,750,000  17.6%\\n   \n",
       "4                                   India  1,375,586,000  17.2%\\n   \n",
       "5                           United States    334,233,854  4.17%\\n   \n",
       "6                               Indonesia    275,773,800  3.44%\\n   \n",
       "7                                Pakistan    235,825,000  2.95%\\n   \n",
       "..                                    ...            ...      ...   \n",
       "239                 Tokelau (New Zealand)          1,647     0%\\n   \n",
       "240                    Niue (New Zealand)          1,549     0%\\n   \n",
       "241                          Vatican City            825     0%\\n   \n",
       "242   Cocos (Keeling) Islands (Australia)            593     0%\\n   \n",
       "243     Pitcairn Islands (United Kingdom)             47     0%\\n   \n",
       "\n",
       "                3                               4  \\\n",
       "3     31 Dec 2022            Official estimate[4]   \n",
       "4    1 Mar 2022\\n          Official projection[5]   \n",
       "5    1 Jan 2023\\n            Official estimate[6]   \n",
       "6      1 Jul 2022            Official estimate[7]   \n",
       "7      1 Jul 2022                UN projection[3]   \n",
       "..            ...                             ...   \n",
       "239    1 Jan 2019               2019 Census [206]   \n",
       "240    1 Jul 2021  National annual projection[95]   \n",
       "241    1 Feb 2019  Monthly national estimate[207]   \n",
       "242   30 Jun 2020                2021 Census[208]   \n",
       "243    1 Jul 2021          Official estimate[209]   \n",
       "\n",
       "                                                     5     6  \n",
       "3    The population figure refers to mainland China...  None  \n",
       "4    The figure includes the population of the Indi...  None  \n",
       "5    The figure includes the 50 states and the Dist...  None  \n",
       "6                                                   \\n  None  \n",
       "7    The figure includes the population of Pakistan...  None  \n",
       "..                                                 ...   ...  \n",
       "239                                                 \\n  None  \n",
       "240                                                 \\n  None  \n",
       "241  The total population of 825 consisted of 453 r...  None  \n",
       "242                                                 \\n  None  \n",
       "243                                                 \\n  None  \n",
       "\n",
       "[241 rows x 7 columns]"
      ]
     },
     "execution_count": 55,
     "metadata": {},
     "output_type": "execute_result"
    }
   ],
   "source": [
    "df = pd.DataFrame(data)\n",
    "df[3:]"
   ]
  },
  {
   "cell_type": "code",
   "execution_count": 56,
   "id": "0c262edd",
   "metadata": {},
   "outputs": [
    {
     "data": {
      "text/html": [
       "<div>\n",
       "<style scoped>\n",
       "    .dataframe tbody tr th:only-of-type {\n",
       "        vertical-align: middle;\n",
       "    }\n",
       "\n",
       "    .dataframe tbody tr th {\n",
       "        vertical-align: top;\n",
       "    }\n",
       "\n",
       "    .dataframe thead th {\n",
       "        text-align: right;\n",
       "    }\n",
       "</style>\n",
       "<table border=\"1\" class=\"dataframe\">\n",
       "  <thead>\n",
       "    <tr style=\"text-align: right;\">\n",
       "      <th></th>\n",
       "      <th>0</th>\n",
       "      <th>1</th>\n",
       "      <th>2</th>\n",
       "      <th>3</th>\n",
       "      <th>4</th>\n",
       "      <th>5</th>\n",
       "      <th>6</th>\n",
       "    </tr>\n",
       "  </thead>\n",
       "  <tbody>\n",
       "    <tr>\n",
       "      <th>239</th>\n",
       "      <td>Tokelau (New Zealand)</td>\n",
       "      <td>1,647</td>\n",
       "      <td>0%\\n</td>\n",
       "      <td>1 Jan 2019</td>\n",
       "      <td>2019 Census [206]</td>\n",
       "      <td>\\n</td>\n",
       "      <td>None</td>\n",
       "    </tr>\n",
       "    <tr>\n",
       "      <th>240</th>\n",
       "      <td>Niue (New Zealand)</td>\n",
       "      <td>1,549</td>\n",
       "      <td>0%\\n</td>\n",
       "      <td>1 Jul 2021</td>\n",
       "      <td>National annual projection[95]</td>\n",
       "      <td>\\n</td>\n",
       "      <td>None</td>\n",
       "    </tr>\n",
       "    <tr>\n",
       "      <th>241</th>\n",
       "      <td>Vatican City</td>\n",
       "      <td>825</td>\n",
       "      <td>0%\\n</td>\n",
       "      <td>1 Feb 2019</td>\n",
       "      <td>Monthly national estimate[207]</td>\n",
       "      <td>The total population of 825 consisted of 453 r...</td>\n",
       "      <td>None</td>\n",
       "    </tr>\n",
       "    <tr>\n",
       "      <th>242</th>\n",
       "      <td>Cocos (Keeling) Islands (Australia)</td>\n",
       "      <td>593</td>\n",
       "      <td>0%\\n</td>\n",
       "      <td>30 Jun 2020</td>\n",
       "      <td>2021 Census[208]</td>\n",
       "      <td>\\n</td>\n",
       "      <td>None</td>\n",
       "    </tr>\n",
       "    <tr>\n",
       "      <th>243</th>\n",
       "      <td>Pitcairn Islands (United Kingdom)</td>\n",
       "      <td>47</td>\n",
       "      <td>0%\\n</td>\n",
       "      <td>1 Jul 2021</td>\n",
       "      <td>Official estimate[209]</td>\n",
       "      <td>\\n</td>\n",
       "      <td>None</td>\n",
       "    </tr>\n",
       "  </tbody>\n",
       "</table>\n",
       "</div>"
      ],
      "text/plain": [
       "                                        0      1     2            3  \\\n",
       "239                 Tokelau (New Zealand)  1,647  0%\\n   1 Jan 2019   \n",
       "240                    Niue (New Zealand)  1,549  0%\\n   1 Jul 2021   \n",
       "241                          Vatican City    825  0%\\n   1 Feb 2019   \n",
       "242   Cocos (Keeling) Islands (Australia)    593  0%\\n  30 Jun 2020   \n",
       "243     Pitcairn Islands (United Kingdom)     47  0%\\n   1 Jul 2021   \n",
       "\n",
       "                                  4  \\\n",
       "239               2019 Census [206]   \n",
       "240  National annual projection[95]   \n",
       "241  Monthly national estimate[207]   \n",
       "242                2021 Census[208]   \n",
       "243          Official estimate[209]   \n",
       "\n",
       "                                                     5     6  \n",
       "239                                                 \\n  None  \n",
       "240                                                 \\n  None  \n",
       "241  The total population of 825 consisted of 453 r...  None  \n",
       "242                                                 \\n  None  \n",
       "243                                                 \\n  None  "
      ]
     },
     "execution_count": 56,
     "metadata": {},
     "output_type": "execute_result"
    }
   ],
   "source": [
    "df.tail(5)"
   ]
  },
  {
   "cell_type": "code",
   "execution_count": 57,
   "id": "dc4e203c",
   "metadata": {},
   "outputs": [],
   "source": [
    "df.to_csv('web_scraped_data.csv')"
   ]
  },
  {
   "cell_type": "code",
   "execution_count": null,
   "id": "852b0e15",
   "metadata": {},
   "outputs": [],
   "source": []
  },
  {
   "cell_type": "code",
   "execution_count": null,
   "id": "27b54764",
   "metadata": {},
   "outputs": [],
   "source": []
  }
 ],
 "metadata": {
  "kernelspec": {
   "display_name": "Python 3 (ipykernel)",
   "language": "python",
   "name": "python3"
  },
  "language_info": {
   "codemirror_mode": {
    "name": "ipython",
    "version": 3
   },
   "file_extension": ".py",
   "mimetype": "text/x-python",
   "name": "python",
   "nbconvert_exporter": "python",
   "pygments_lexer": "ipython3",
   "version": "3.11.1"
  }
 },
 "nbformat": 4,
 "nbformat_minor": 5
}
